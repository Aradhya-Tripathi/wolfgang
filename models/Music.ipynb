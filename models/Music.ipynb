{
  "nbformat": 4,
  "nbformat_minor": 0,
  "metadata": {
    "colab": {
      "name": "Music.ipynb",
      "provenance": [],
      "collapsed_sections": []
    },
    "kernelspec": {
      "name": "python3",
      "display_name": "Python 3"
    },
    "accelerator": "GPU"
  },
  "cells": [
    {
      "cell_type": "code",
      "metadata": {
        "id": "hRwx_aXsyj_7"
      },
      "source": [
        "from music21 import converter, instrument, note, chord"
      ],
      "execution_count": null,
      "outputs": []
    },
    {
      "cell_type": "code",
      "metadata": {
        "id": "3o8IJLqU4mZi"
      },
      "source": [
        "import numpy as np"
      ],
      "execution_count": null,
      "outputs": []
    },
    {
      "cell_type": "code",
      "metadata": {
        "id": "_-HW5pKFzid5"
      },
      "source": [
        "import glob"
      ],
      "execution_count": null,
      "outputs": []
    },
    {
      "cell_type": "code",
      "metadata": {
        "id": "C_2VHptB5QPq"
      },
      "source": [
        "from keras.utils import np_utils"
      ],
      "execution_count": null,
      "outputs": []
    },
    {
      "cell_type": "code",
      "metadata": {
        "id": "PRaetkiQaETY"
      },
      "source": [
        "!mkdir weights"
      ],
      "execution_count": null,
      "outputs": []
    },
    {
      "cell_type": "code",
      "metadata": {
        "id": "iaiOsZ0BzBj9"
      },
      "source": [
        "notes = []\n",
        "\n",
        "for file in glob.glob(\"data/*.mid\"):\n",
        "    midi = converter.parse(file)\n",
        "    notes_to_parse = None\n",
        "\n",
        "    parts = instrument.partitionByInstrument(midi)\n",
        "\n",
        "    if parts: # file has instrument parts\n",
        "        notes_to_parse = parts.parts[0].recurse()\n",
        "    else: # file has notes in a flat structure\n",
        "        notes_to_parse = midi.flat.notes\n",
        "\n",
        "    for element in notes_to_parse:\n",
        "        if isinstance(element, note.Note):\n",
        "            notes.append(str(element.pitch))\n",
        "        elif isinstance(element, chord.Chord):\n",
        "            notes.append('.'.join(str(n) for n in element.normalOrder))\n",
        "\n"
      ],
      "execution_count": null,
      "outputs": []
    },
    {
      "cell_type": "code",
      "metadata": {
        "id": "EfVLoFmH0u-D",
        "colab": {
          "base_uri": "https://localhost:8080/"
        },
        "outputId": "eea9b6c1-dde1-43dc-9608-906831d0f218"
      },
      "source": [
        "print(len(notes))"
      ],
      "execution_count": null,
      "outputs": [
        {
          "output_type": "stream",
          "text": [
            "86436\n"
          ],
          "name": "stdout"
        }
      ]
    },
    {
      "cell_type": "code",
      "metadata": {
        "id": "mkEBm13d1qEb"
      },
      "source": [
        "sequence_length = 100# get all pitch names\n",
        "pitchnames = sorted(set(item for item in notes))"
      ],
      "execution_count": null,
      "outputs": []
    },
    {
      "cell_type": "code",
      "metadata": {
        "id": "yMgDIoCu3CvS"
      },
      "source": [
        "note_to_int = dict((note, number) for number, note in enumerate(pitchnames))"
      ],
      "execution_count": null,
      "outputs": []
    },
    {
      "cell_type": "code",
      "metadata": {
        "id": "jKPDbghm2KOh"
      },
      "source": [
        "network_input = []\n",
        "network_output = []"
      ],
      "execution_count": null,
      "outputs": []
    },
    {
      "cell_type": "code",
      "metadata": {
        "id": "hZupmNgP4PiK"
      },
      "source": [
        "for i in range(0, len(notes) - sequence_length, 1):\n",
        "    sequence_in = notes[i:i + sequence_length]\n",
        "    sequence_out = notes[i + sequence_length]\n",
        "    network_input.append([note_to_int[char] for char in sequence_in])\n",
        "    network_output.append(note_to_int[sequence_out])"
      ],
      "execution_count": null,
      "outputs": []
    },
    {
      "cell_type": "code",
      "metadata": {
        "id": "EGcdzJo44cuA"
      },
      "source": [
        "n_patterns = len(network_input)"
      ],
      "execution_count": null,
      "outputs": []
    },
    {
      "cell_type": "code",
      "metadata": {
        "id": "1ZzCjv7846pP"
      },
      "source": [
        "n_vocab = len(set(notes))"
      ],
      "execution_count": null,
      "outputs": []
    },
    {
      "cell_type": "code",
      "metadata": {
        "id": "0mM7SRi048tT",
        "colab": {
          "base_uri": "https://localhost:8080/"
        },
        "outputId": "0e103e58-e6a9-482f-9364-7bebd638f483"
      },
      "source": [
        "print(n_patterns, \"  \", n_vocab)"
      ],
      "execution_count": null,
      "outputs": [
        {
          "output_type": "stream",
          "text": [
            "86336    280\n"
          ],
          "name": "stdout"
        }
      ]
    },
    {
      "cell_type": "code",
      "metadata": {
        "id": "wEff8Ngi4eB_"
      },
      "source": [
        "network_input = np.reshape(network_input, (n_patterns, sequence_length, 1))\n",
        "# normalize input\n",
        "network_input = network_input / float(n_vocab)"
      ],
      "execution_count": null,
      "outputs": []
    },
    {
      "cell_type": "code",
      "metadata": {
        "id": "FSRSQw3V4lYI"
      },
      "source": [
        "network_output = np_utils.to_categorical(network_output)"
      ],
      "execution_count": null,
      "outputs": []
    },
    {
      "cell_type": "code",
      "metadata": {
        "colab": {
          "base_uri": "https://localhost:8080/"
        },
        "id": "-kQEpmFcdQF1",
        "outputId": "e97ed2fe-9801-4f5a-bc8c-760d656dfcff"
      },
      "source": [
        "cd .."
      ],
      "execution_count": null,
      "outputs": [
        {
          "output_type": "stream",
          "text": [
            "/content\n"
          ],
          "name": "stdout"
        }
      ]
    },
    {
      "cell_type": "code",
      "metadata": {
        "id": "dwnUhXBy5M5t",
        "colab": {
          "base_uri": "https://localhost:8080/"
        },
        "outputId": "61583737-4a37-41c3-f1fa-e94942bcc77f"
      },
      "source": [
        "!wget https://www.dropbox.com/s/v5wr1kb2y1gvyfq/weights%281%29.hdf5?dl=0"
      ],
      "execution_count": null,
      "outputs": [
        {
          "output_type": "stream",
          "text": [
            "--2020-11-19 12:29:42--  https://www.dropbox.com/s/v5wr1kb2y1gvyfq/weights%281%29.hdf5?dl=0\n",
            "Resolving www.dropbox.com (www.dropbox.com)... 162.125.65.1, 2620:100:6021:1::a27d:4101\n",
            "Connecting to www.dropbox.com (www.dropbox.com)|162.125.65.1|:443... connected.\n",
            "HTTP request sent, awaiting response... 301 Moved Permanently\n",
            "Location: /s/raw/v5wr1kb2y1gvyfq/weights%281%29.hdf5 [following]\n",
            "--2020-11-19 12:29:42--  https://www.dropbox.com/s/raw/v5wr1kb2y1gvyfq/weights%281%29.hdf5\n",
            "Reusing existing connection to www.dropbox.com:443.\n",
            "HTTP request sent, awaiting response... 302 Found\n",
            "Location: https://uce98f0975c65ef0e9a13a9b08cc.dl.dropboxusercontent.com/cd/0/inline/BDcV7tjOyaKWcKKe3HTTQAbQP3jzzciH-F_4HfhM1aiy-fU9fL9vK5Fs_WS3H-2lSadnYVgAWnCI8XdFPoOLY8eaVwbgrm2uYpN5jz0HjgP4Ncj6H1Z9Wvi23Et-235us2c/file# [following]\n",
            "--2020-11-19 12:29:42--  https://uce98f0975c65ef0e9a13a9b08cc.dl.dropboxusercontent.com/cd/0/inline/BDcV7tjOyaKWcKKe3HTTQAbQP3jzzciH-F_4HfhM1aiy-fU9fL9vK5Fs_WS3H-2lSadnYVgAWnCI8XdFPoOLY8eaVwbgrm2uYpN5jz0HjgP4Ncj6H1Z9Wvi23Et-235us2c/file\n",
            "Resolving uce98f0975c65ef0e9a13a9b08cc.dl.dropboxusercontent.com (uce98f0975c65ef0e9a13a9b08cc.dl.dropboxusercontent.com)... 162.125.65.15, 2620:100:6021:15::a27d:410f\n",
            "Connecting to uce98f0975c65ef0e9a13a9b08cc.dl.dropboxusercontent.com (uce98f0975c65ef0e9a13a9b08cc.dl.dropboxusercontent.com)|162.125.65.15|:443... connected.\n",
            "HTTP request sent, awaiting response... 200 OK\n",
            "Length: 43731968 (42M) [text/plain]\n",
            "Saving to: ‘weights(1).hdf5?dl=0’\n",
            "\n",
            "weights(1).hdf5?dl= 100%[===================>]  41.71M  20.8MB/s    in 2.0s    \n",
            "\n",
            "2020-11-19 12:29:45 (20.8 MB/s) - ‘weights(1).hdf5?dl=0’ saved [43731968/43731968]\n",
            "\n"
          ],
          "name": "stdout"
        }
      ]
    },
    {
      "cell_type": "code",
      "metadata": {
        "id": "Gh6O4sXg5iGH",
        "colab": {
          "base_uri": "https://localhost:8080/"
        },
        "outputId": "d1bac454-9846-4511-b807-fecc7d2ebd4d"
      },
      "source": [
        "import glob\n",
        "import pickle\n",
        "import numpy\n",
        "from music21 import converter, instrument, note, chord\n",
        "from keras.models import Sequential\n",
        "from keras.layers import Dense\n",
        "from keras.layers import Dropout\n",
        "from keras.layers import LSTM\n",
        "from keras.layers import Activation\n",
        "from keras.layers import BatchNormalization as BatchNorm\n",
        "from keras.utils import np_utils\n",
        "from keras.callbacks import ModelCheckpoint\n",
        "\n",
        "def train_network():\n",
        "    \n",
        "    notes = get_notes()\n",
        "\n",
        "    # get amount of pitch names\n",
        "    n_vocab = len(set(notes))\n",
        "\n",
        "    network_input, network_output = prepare_sequences(notes, n_vocab)\n",
        "\n",
        "    model = create_network(network_input, n_vocab)\n",
        "\n",
        "    train(model, network_input, network_output)\n",
        "\n",
        "def get_notes():\n",
        "    \n",
        "    notes = []\n",
        "\n",
        "    for file in glob.glob(\"data/*.mid\"):\n",
        "        midi = converter.parse(file)\n",
        "\n",
        "        print(\"Parsing %s\" % file)\n",
        "\n",
        "        notes_to_parse = None\n",
        "\n",
        "        try: # file has instrument parts\n",
        "            s2 = instrument.partitionByInstrument(midi)\n",
        "            notes_to_parse = s2.parts[0].recurse() \n",
        "        except: # file has notes in a flat structure\n",
        "            notes_to_parse = midi.flat.notes\n",
        "\n",
        "        for element in notes_to_parse:\n",
        "            if isinstance(element, note.Note):\n",
        "                notes.append(str(element.pitch))\n",
        "            elif isinstance(element, chord.Chord):\n",
        "                notes.append('.'.join(str(n) for n in element.normalOrder))\n",
        "\n",
        "    with open('data/notes', 'wb') as filepath:\n",
        "        pickle.dump(notes, filepath)\n",
        "\n",
        "    return notes\n",
        "\n",
        "def prepare_sequences(notes, n_vocab):\n",
        "    \n",
        "    sequence_length = 100\n",
        "\n",
        "    # get all pitch names\n",
        "    pitchnames = sorted(set(item for item in notes))\n",
        "\n",
        "     # create a dictionary to map pitches to integers\n",
        "    note_to_int = dict((note, number) for number, note in enumerate(pitchnames))\n",
        "\n",
        "    network_input = []\n",
        "    network_output = []\n",
        "\n",
        "    # create input sequences and the corresponding outputs\n",
        "    for i in range(0, len(notes) - sequence_length, 1):\n",
        "        sequence_in = notes[i:i + sequence_length]\n",
        "        sequence_out = notes[i + sequence_length]\n",
        "        network_input.append([note_to_int[char] for char in sequence_in])\n",
        "        network_output.append(note_to_int[sequence_out])\n",
        "\n",
        "    n_patterns = len(network_input)\n",
        "\n",
        "    # reshape the input into a format compatible with LSTM layers\n",
        "    network_input = numpy.reshape(network_input, (n_patterns, sequence_length, 1))\n",
        "    # normalize input\n",
        "    network_input = network_input / float(n_vocab)\n",
        "\n",
        "    network_output = np_utils.to_categorical(network_output)\n",
        "\n",
        "    return (network_input, network_output)\n",
        "\n",
        "def create_network(network_input, n_vocab):\n",
        "    \n",
        "    model = Sequential()\n",
        "    model.add(LSTM(\n",
        "        512,\n",
        "        input_shape=(network_input.shape[1], network_input.shape[2]),\n",
        "        recurrent_dropout=0.3,\n",
        "        return_sequences=True\n",
        "    ))\n",
        "    model.add(LSTM(512, return_sequences=True, recurrent_dropout=0.3,))\n",
        "    model.add(LSTM(512))\n",
        "    model.add(BatchNorm())\n",
        "    model.add(Dropout(0.3))\n",
        "    model.add(Dense(256))\n",
        "    model.add(Activation('relu'))\n",
        "    model.add(BatchNorm())\n",
        "    model.add(Dropout(0.3))\n",
        "    model.add(Dense(n_vocab))\n",
        "    model.add(Activation('softmax'))\n",
        "    model.compile(loss='categorical_crossentropy', optimizer='adam')\n",
        "    model.load_weights('weights.hdf5')\n",
        "    return model\n",
        "\n",
        "def train(model, network_input, network_output):\n",
        "    \n",
        "    filepath = \"weights/weights.hdf5\"\n",
        "    checkpoint = ModelCheckpoint(\n",
        "        filepath,\n",
        "        monitor='loss',\n",
        "        save_freq = 10,\n",
        "        verbose=0,\n",
        "        save_best_only=True,\n",
        "        mode='min'\n",
        "    )\n",
        "    callbacks_list = [checkpoint]\n",
        "\n",
        "    model.fit(network_input, network_output, epochs=100, batch_size=1024, callbacks=callbacks_list)\n",
        "\n",
        "if __name__ == '__main__':\n",
        "    train_network()"
      ],
      "execution_count": null,
      "outputs": [
        {
          "output_type": "stream",
          "text": [
            "Parsing data/beethoven_opus10_1.mid\n",
            "Parsing data/beethoven_opus22_1.mid\n",
            "Parsing data/beethoven_hammerklavier_3.mid\n",
            "Parsing data/appass_2.mid\n",
            "Parsing data/beethoven_opus22_3.mid\n",
            "Parsing data/waldstein_3.mid\n",
            "Parsing data/appass_3.mid\n",
            "Parsing data/beethoven_opus90_1.mid\n",
            "Parsing data/beethoven_opus22_4.mid\n",
            "Parsing data/beethoven_les_adieux_3.mid\n",
            "Parsing data/pathetique_2.mid\n",
            "Parsing data/mond_2.mid\n",
            "Parsing data/waldstein_2.mid\n",
            "Parsing data/mond_3.mid\n",
            "Parsing data/beethoven_hammerklavier_2.mid\n",
            "Parsing data/beethoven_opus22_2.mid\n",
            "Parsing data/pathetique_1.mid\n",
            "Parsing data/waldstein_1.mid\n",
            "Parsing data/elise.mid\n",
            "Parsing data/beethoven_les_adieux_1.mid\n",
            "Parsing data/beethoven_hammerklavier_4.mid\n",
            "Parsing data/appass_1.mid\n",
            "Parsing data/beethoven_opus10_3.mid\n",
            "Parsing data/beethoven_les_adieux_2.mid\n",
            "Parsing data/beethoven_opus90_2.mid\n",
            "Parsing data/beethoven_hammerklavier_1.mid\n",
            "Parsing data/beethoven_opus10_2.mid\n",
            "Parsing data/pathetique_3.mid\n",
            "Parsing data/mond_1.mid\n",
            "Epoch 1/100\n",
            " 1/85 [..............................] - ETA: 0s - loss: 0.2185"
          ],
          "name": "stdout"
        },
        {
          "output_type": "stream",
          "text": [
            "\n",
            "KeyboardInterrupt\n",
            "\n"
          ],
          "name": "stderr"
        }
      ]
    },
    {
      "cell_type": "code",
      "metadata": {
        "id": "ikVufeuW5o8c",
        "colab": {
          "base_uri": "https://localhost:8080/"
        },
        "outputId": "e76b3e87-1706-4c37-9683-36608b404510"
      },
      "source": [
        " "
      ],
      "execution_count": null,
      "outputs": [
        {
          "output_type": "stream",
          "text": [
            "--2020-11-18 02:44:38--  https://www.dropbox.com/s/0h28z74di27jk1f/weights%286%29.hdf5?dl=0\n",
            "Resolving www.dropbox.com (www.dropbox.com)... 162.125.3.1, 2620:100:6018:1::a27d:301\n",
            "Connecting to www.dropbox.com (www.dropbox.com)|162.125.3.1|:443... connected.\n",
            "HTTP request sent, awaiting response... 301 Moved Permanently\n",
            "Location: /s/raw/0h28z74di27jk1f/weights%286%29.hdf5 [following]\n",
            "--2020-11-18 02:44:38--  https://www.dropbox.com/s/raw/0h28z74di27jk1f/weights%286%29.hdf5\n",
            "Reusing existing connection to www.dropbox.com:443.\n",
            "HTTP request sent, awaiting response... 302 Found\n",
            "Location: https://ucd303ea4fb0b1723553b5245e9d.dl.dropboxusercontent.com/cd/0/inline/BDaCauAn4s6faKNkjLMhJfUP1NeUM8vDdTcPkFWeeLDR3F7yBpN-ToDoid3C2WyNu-BkwifhGsozv0Fxc9zQd42Du64gYlZZHrJCWw6sKkCg9lPRRthW5BYwB4ee-wPp8_U/file# [following]\n",
            "--2020-11-18 02:44:38--  https://ucd303ea4fb0b1723553b5245e9d.dl.dropboxusercontent.com/cd/0/inline/BDaCauAn4s6faKNkjLMhJfUP1NeUM8vDdTcPkFWeeLDR3F7yBpN-ToDoid3C2WyNu-BkwifhGsozv0Fxc9zQd42Du64gYlZZHrJCWw6sKkCg9lPRRthW5BYwB4ee-wPp8_U/file\n",
            "Resolving ucd303ea4fb0b1723553b5245e9d.dl.dropboxusercontent.com (ucd303ea4fb0b1723553b5245e9d.dl.dropboxusercontent.com)... 162.125.3.15, 2620:100:6018:15::a27d:30f\n",
            "Connecting to ucd303ea4fb0b1723553b5245e9d.dl.dropboxusercontent.com (ucd303ea4fb0b1723553b5245e9d.dl.dropboxusercontent.com)|162.125.3.15|:443... connected.\n",
            "HTTP request sent, awaiting response... 200 OK\n",
            "Length: 43731952 (42M) [text/plain]\n",
            "Saving to: ‘weights(6).hdf5?dl=0’\n",
            "\n",
            "weights(6).hdf5?dl= 100%[===================>]  41.71M  67.4MB/s    in 0.6s    \n",
            "\n",
            "2020-11-18 02:44:40 (67.4 MB/s) - ‘weights(6).hdf5?dl=0’ saved [43731952/43731952]\n",
            "\n"
          ],
          "name": "stdout"
        }
      ]
    },
    {
      "cell_type": "code",
      "metadata": {
        "id": "HXnx1-WkPVHv"
      },
      "source": [
        "import pickle\n",
        "import numpy\n",
        "from music21 import instrument, note, stream, chord\n",
        "from keras.models import Sequential\n",
        "from keras.layers import Dense\n",
        "from keras.layers import Dropout\n",
        "from keras.layers import LSTM\n",
        "from keras.layers import BatchNormalization as BatchNorm\n",
        "from keras.layers import Activation\n",
        "\n",
        "def generate():\n",
        "    \"\"\" Generate a piano midi file \"\"\"\n",
        "    #load the notes used to train the model\n",
        "    with open('data/notes', 'rb') as filepath:\n",
        "        notes = pickle.load(filepath)\n",
        "\n",
        "    # Get all pitch names\n",
        "    pitchnames = sorted(set(item for item in notes))\n",
        "    # Get all pitch names\n",
        "    n_vocab = len(set(notes))\n",
        "\n",
        "    network_input, normalized_input = prepare_sequences(notes, pitchnames, n_vocab)\n",
        "    model = create_network(normalized_input, n_vocab)\n",
        "    prediction_output = generate_notes(model, network_input, pitchnames, n_vocab)\n",
        "    create_midi(prediction_output)\n",
        "\n",
        "def prepare_sequences(notes, pitchnames, n_vocab):\n",
        "    \"\"\" Prepare the sequences used by the Neural Network \"\"\"\n",
        "    # map between notes and integers and back\n",
        "    note_to_int = dict((note, number) for number, note in enumerate(pitchnames))\n",
        "\n",
        "    sequence_length = 150\n",
        "    network_input = []\n",
        "    output = []\n",
        "    for i in range(0, len(notes) - sequence_length, 1):\n",
        "        sequence_in = notes[i:i + sequence_length]\n",
        "        sequence_out = notes[i + sequence_length]\n",
        "        network_input.append([note_to_int[char] for char in sequence_in])\n",
        "        output.append(note_to_int[sequence_out])\n",
        "\n",
        "    n_patterns = len(network_input)\n",
        "\n",
        "    # reshape the input into a format compatible with LSTM layers\n",
        "    normalized_input = numpy.reshape(network_input, (n_patterns, sequence_length, 1))\n",
        "    # normalize input\n",
        "    normalized_input = normalized_input / float(n_vocab)\n",
        "\n",
        "    return (network_input, normalized_input)\n",
        "\n",
        "def create_network(network_input, n_vocab):\n",
        "    \"\"\" create the structure of the neural network \"\"\"\n",
        "    model = Sequential()\n",
        "    model.add(LSTM(\n",
        "        512,\n",
        "        input_shape=(network_input.shape[1], network_input.shape[2]),\n",
        "        recurrent_dropout=0.3,\n",
        "        return_sequences=True\n",
        "    ))\n",
        "    model.add(LSTM(512, return_sequences=True, recurrent_dropout=0.3,))\n",
        "    model.add(LSTM(512))\n",
        "    model.add(BatchNorm())\n",
        "    model.add(Dropout(0.3))\n",
        "    model.add(Dense(256))\n",
        "    model.add(Activation('relu'))\n",
        "    model.add(BatchNorm())\n",
        "    model.add(Dropout(0.3))\n",
        "    model.add(Dense(n_vocab))\n",
        "    model.add(Activation('softmax'))\n",
        "    model.compile(loss='categorical_crossentropy', optimizer='rmsprop')\n",
        "\n",
        "    # Load the weights to each node\n",
        "    model.load_weights('weights.hdf5')\n",
        "\n",
        "    return model\n",
        "\n",
        "def generate_notes(model, network_input, pitchnames, n_vocab):\n",
        "    \"\"\" Generate notes from the neural network based on a sequence of notes \"\"\"\n",
        "    # pick a random sequence from the input as a starting point for the prediction\n",
        "    start = numpy.random.randint(0, len(network_input)-1)\n",
        "\n",
        "    int_to_note = dict((number, note) for number, note in enumerate(pitchnames))\n",
        "\n",
        "    pattern = network_input[start]\n",
        "    prediction_output = []\n",
        "\n",
        "    # generate 500 notes\n",
        "    for note_index in range(500):\n",
        "        prediction_input = numpy.reshape(pattern, (1, len(pattern), 1))\n",
        "        prediction_input = prediction_input / float(n_vocab)\n",
        "\n",
        "        prediction = model.predict(prediction_input, verbose=0)\n",
        "\n",
        "        index = numpy.argmax(prediction)\n",
        "        result = int_to_note[index]\n",
        "        prediction_output.append(result)\n",
        "\n",
        "        pattern.append(index)\n",
        "        pattern = pattern[1:len(pattern)]\n",
        "\n",
        "    return prediction_output\n",
        "\n",
        "def create_midi(prediction_output):\n",
        "    \"\"\" convert the output from the prediction to notes and create a midi file\n",
        "        from the notes \"\"\"\n",
        "    offset = 0\n",
        "    output_notes = []\n",
        "\n",
        "    # create note and chord objects based on the values generated by the model\n",
        "    for pattern in prediction_output:\n",
        "        # pattern is a chord\n",
        "        if ('.' in pattern) or pattern.isdigit():\n",
        "            notes_in_chord = pattern.split('.')\n",
        "            notes = []\n",
        "            for current_note in notes_in_chord:\n",
        "                new_note = note.Note(int(current_note))\n",
        "                new_note.storedInstrument = instrument.Piano()\n",
        "                notes.append(new_note)\n",
        "            new_chord = chord.Chord(notes)\n",
        "            new_chord.offset = offset\n",
        "            output_notes.append(new_chord)\n",
        "        # pattern is a note\n",
        "        else:\n",
        "            new_note = note.Note(pattern)\n",
        "            new_note.offset = offset\n",
        "            new_note.storedInstrument = instrument.Piano()\n",
        "            output_notes.append(new_note)\n",
        "\n",
        "        # increase offset each iteration so that notes do not stack\n",
        "        offset += 0.3\n",
        "\n",
        "    midi_stream = stream.Stream(output_notes)\n",
        "\n",
        "    midi_stream.write('midi', fp='test_output.mid')\n",
        "\n",
        "if __name__ == '__main__':\n",
        "    generate()"
      ],
      "execution_count": null,
      "outputs": []
    }
  ]
}